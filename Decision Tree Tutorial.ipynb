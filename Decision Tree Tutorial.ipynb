{
 "cells": [
  {
   "cell_type": "markdown",
   "metadata": {},
   "source": [
    "# Decision Tree Tutorial\n",
    "\n",
    "To Do:\n",
    "* Write this cool tutorial\n",
    "* clean up code a bit\n",
    "* add pretty graphs"
   ]
  },
  {
   "cell_type": "markdown",
   "metadata": {},
   "source": [
    "We need to import pandas (a useful data manipulation library), our tree class, and a few other things"
   ]
  },
  {
   "cell_type": "code",
   "execution_count": 1,
   "metadata": {
    "collapsed": false
   },
   "outputs": [],
   "source": [
    "from __future__ import division\n",
    "import pandas as pd\n",
    "from math import log\n",
    "\n",
    "import jsonpickle as jp"
   ]
  },
  {
   "cell_type": "code",
   "execution_count": 2,
   "metadata": {
    "collapsed": true
   },
   "outputs": [],
   "source": [
    "class TreeNode:\n",
    "    def __init__(self, label):\n",
    "        self.label = label\n",
    "        self.children = {}\n",
    "\n",
    "        \n",
    "    def add_child(self, child_path, child_label):\n",
    "        self.children[child_path] = TreeNode(child_label)\n",
    "\n",
    "        \n",
    "    def insert_child(self, child_path, child):\n",
    "        self.children[child_path] = child\n",
    "\n",
    "    \n",
    "    def remove_path(self, child_path):\n",
    "        del self.children[child_path]\n",
    "\n",
    "    \n",
    "    def isLeaf(self):\n",
    "        return len(self.children) <= 0\n",
    "\n",
    "    \n",
    "    def __iter__(self):\n",
    "        return self.children.__iter__()\n",
    "\n",
    "    \n",
    "    def __getitem__(self, key):\n",
    "        return self.children[key]\n",
    "\n",
    "    \n",
    "    def __str__(self):\n",
    "        return self.label\n",
    "\n",
    "    \n",
    "    def traverse(self, feature_vector):\n",
    "        if self.isLeaf(): \n",
    "            return self.label\n",
    "        next_path = feature_vector[self.label]\n",
    "        return self.children[next_path].traverse(feature_vector)\n",
    "\n",
    "    @staticmethod\n",
    "    def load_tree(save_file):\n",
    "        with open(save_file, 'r') as f:\n",
    "            serial_string = f.read()\n",
    "        return jp.decode(serial_string)\n",
    "\n",
    "    @staticmethod\n",
    "    def save_tree(tree_node, save_file):\n",
    "        serial_string = jp.encode(tree_node)\n",
    "        with open(save_file, 'w') as f:\n",
    "            f.write(serial_string)"
   ]
  },
  {
   "cell_type": "markdown",
   "metadata": {},
   "source": [
    "These are the functions we are going to use. (More details coming later)"
   ]
  },
  {
   "cell_type": "code",
   "execution_count": 3,
   "metadata": {
    "collapsed": false
   },
   "outputs": [],
   "source": [
    "def load_data(filename):\n",
    "    data_array = pd.read_csv(filename)\n",
    "    return data_array\n",
    "\n",
    "\n",
    "def b(q):\n",
    "    if q == 0 or q >= 1:\n",
    "        # By definition\n",
    "        return 0\n",
    "    else:\n",
    "        return -(q * log(q, 2) + (1 - q) * log(1 - q, 2))\n",
    "    \n",
    "\n",
    "    def remain_per_attr(p_k, n_k, p, n):\n",
    "        remain = ((p_k + n_k) / (p + n)) * b(p_k/(p_k + n_k))\n",
    "    return remain\n",
    "\n",
    "\n",
    "def remain_per_attr(p_k, n_k, p, n):\n",
    "    remain = ((p_k + n_k) / (p + n)) * b(p_k/(p_k + n_k))\n",
    "    return remain\n",
    "\n",
    "\n",
    "def remainder(data_array, attribute, goal_attribute):\n",
    "    remain = 0.0\n",
    "\n",
    "    for value in data_array[attribute].unique():\n",
    "        p_k = 0.0\n",
    "        n_k = 0.0\n",
    "        p = 0.0\n",
    "        n = 0.0\n",
    "\n",
    "        if 'yes' in data_array[data_array[attribute] == value][goal_attribute].value_counts():\n",
    "            p_k = data_array[data_array[attribute] == value][goal_attribute].value_counts()['yes']\n",
    "\n",
    "        if 'no' in data_array[data_array[attribute] == value][goal_attribute].value_counts():\n",
    "            n_k = data_array[data_array[attribute] == value][goal_attribute].value_counts()['no']\n",
    "\n",
    "        if 'yes' in data_array[goal_attribute].value_counts():\n",
    "            p = data_array[goal_attribute].value_counts()['yes']\n",
    "\n",
    "        if 'no' in data_array[goal_attribute].value_counts():\n",
    "            n = data_array[goal_attribute].value_counts()['no']\n",
    "\n",
    "        remain += remain_per_attr(p_k, n_k, p, n)\n",
    "\n",
    "    return remain\n",
    "\n",
    "\n",
    "def gain(data_array, attribute, goal_attribute):\n",
    "    # This is always the same, it's based on the overall choices\n",
    "    p = data_array[goal_attribute].value_counts()['yes']\n",
    "    n = data_array[goal_attribute].value_counts()['no']\n",
    "    b_attr = b(p / (n + p))\n",
    "    remain_attr = remainder(data_array, attribute, goal_attribute)\n",
    "    return b_attr - remain_attr\n",
    "\n",
    "\n",
    "def gain_of_attributes(data_array, goal_attribute):\n",
    "    attribute_gain = {}\n",
    "    for attr in data_array:\n",
    "        if not attr == goal_attribute:\n",
    "            attribute_gain[attr] = gain(data_array, attr, goal_attribute)\n",
    "\n",
    "    return attribute_gain\n",
    "\n",
    "def plurality_count(data_array, goal_attribute):\n",
    "    vdict = (data_array['will_wait'].value_counts()).to_dict()\n",
    "\n",
    "    return max(vdict, key=vdict.get)\n",
    "\n",
    "def train_tree(data_array, parent_array, goal_attribute):\n",
    "    if (len(data_array) <= 0):\n",
    "        return TreeNode(plurality_count(parent_array, goal_attribute))\n",
    "\n",
    "    categories = data_array[goal_attribute].unique()\n",
    "    if (len(categories) == 1):\n",
    "        return TreeNode(categories[0])\n",
    "\n",
    "    if (len(data_array.columns) == 1):\n",
    "        return TreeNode(plurality_count(data_array, goal_attribute)) \n",
    "\n",
    "    attribute_gain = gain_of_attributes(data_array, goal_attribute)\n",
    "    attribute = max(attribute_gain, key=attribute_gain.get)\n",
    "    tree_node = TreeNode(attribute)\n",
    "    child_paths = data_array[attribute].unique()\n",
    "\n",
    "    for path in child_paths:\n",
    "        child_array = data_array[data_array[attribute] == path]\n",
    "        child_array = child_array[child_array.columns.difference([attribute])]\n",
    "        child_tree = train_tree(child_array, parent_array, goal_attribute)\n",
    "        tree_node.insert_child(path, child_tree)\n",
    "\n",
    "    return tree_node\n",
    "\n",
    "def categorize_data(data_array, tree_root):\n",
    "    output = []\n",
    "    for data_dict in data_array.to_dict('records'):\n",
    "        output += [tree_root.traverse(data_dict)]\n",
    "\n",
    "    return output"
   ]
  },
  {
   "cell_type": "code",
   "execution_count": 4,
   "metadata": {
    "collapsed": true
   },
   "outputs": [],
   "source": [
    "my_data = load_data('Data/DecisionTreeData/restaurant_data.csv')\n",
    "goal_attribute = 'will_wait'"
   ]
  },
  {
   "cell_type": "code",
   "execution_count": 5,
   "metadata": {
    "collapsed": false
   },
   "outputs": [
    {
     "name": "stdout",
     "output_type": "stream",
     "text": [
      "['yes', 'no', 'yes', 'yes', 'no', 'yes', 'no', 'yes', 'no', 'no', 'no', 'yes']\n"
     ]
    }
   ],
   "source": [
    "tree_root = train_tree(my_data, None, goal_attribute)\n",
    "print categorize_data(my_data, tree_root)"
   ]
  },
  {
   "cell_type": "code",
   "execution_count": null,
   "metadata": {
    "collapsed": true
   },
   "outputs": [],
   "source": []
  }
 ],
 "metadata": {
  "kernelspec": {
   "display_name": "Python 2",
   "language": "python",
   "name": "python2"
  },
  "language_info": {
   "codemirror_mode": {
    "name": "ipython",
    "version": 2
   },
   "file_extension": ".py",
   "mimetype": "text/x-python",
   "name": "python",
   "nbconvert_exporter": "python",
   "pygments_lexer": "ipython2",
   "version": "2.7.12"
  }
 },
 "nbformat": 4,
 "nbformat_minor": 1
}
