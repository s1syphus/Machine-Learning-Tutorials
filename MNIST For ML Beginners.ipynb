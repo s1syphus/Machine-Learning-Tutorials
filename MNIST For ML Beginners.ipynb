{
 "cells": [
  {
   "cell_type": "markdown",
   "metadata": {},
   "source": [
    "# MNIST For ML Beginners\n",
    "\n",
    "This follows the tensorflow tutorial https://www.tensorflow.org/versions/r0.10/tutorials/mnist/beginners/index.html\n",
    "with some minor changes/additions."
   ]
  },
  {
   "cell_type": "markdown",
   "metadata": {},
   "source": [
    "## Introduction\n",
    "\n",
    "Rather than 'Hello World' in Machine Learning the basic introduction is conducted using the MNIST dataset. This is a collection of handwritten digits (http://yann.lecun.com/exdb/mnist/). In this tutorial we are going use a basic softmax regression model in order to classify the digits. Before we begin make sure you have the TensorFlow library installed. Support code to easily read/convert the data is provided, the focus is on the classification task, not how to read binary data. The data is already split up into training and test data so no need to implement any sort of cross-validation (although you still could if you are so inclined).\n",
    "\n",
    "The data has three main parts: 55,000 data points of training data, 10,000 data points of testing data, and 5,000 points of validation data. All of the data points are 28x28 pixel images with a label.\n",
    "\n",
    "Let's read in the data using Tensorflows built in classes (thanks Google!)."
   ]
  },
  {
   "cell_type": "code",
   "execution_count": 22,
   "metadata": {
    "collapsed": false
   },
   "outputs": [
    {
     "name": "stdout",
     "output_type": "stream",
     "text": [
      "Extracting MNIST_data/train-images-idx3-ubyte.gz\n",
      "Extracting MNIST_data/train-labels-idx1-ubyte.gz\n",
      "Extracting MNIST_data/t10k-images-idx3-ubyte.gz\n",
      "Extracting MNIST_data/t10k-labels-idx1-ubyte.gz\n"
     ]
    }
   ],
   "source": [
    "# bug, possibly in tensorflow or maybe just me.\n",
    "# if numpy is not explicitly importet python dies a horrible death\n",
    "import numpy as np\n",
    "from tensorflow.examples.tutorials.mnist import input_data\n",
    "mnist = input_data.read_data_sets(\"MNIST_data/\", one_hot=True)"
   ]
  },
  {
   "cell_type": "code",
   "execution_count": 31,
   "metadata": {
    "collapsed": false
   },
   "outputs": [
    {
     "name": "stdout",
     "output_type": "stream",
     "text": [
      "[ 0.  0.  0.  0.  0.  0.  0.  0.  0.  0.  0.  0.  0.  0.  0.  0.  0.  0.\n",
      "  0.  0.  0.  0.  0.  0.  0.  0.  0.  0.  0.  0.  0.  0.  0.  0.  0.  0.\n",
      "  0.  0.  0.  0.  0.  0.  0.  0.  0.  0.  0.  0.  0.  0.  0.  0.  0.  0.\n",
      "  0.  0.  0.  0.  0.  0.  0.  0.  0.  0.  0.  0.  0.  0.  0.  0.  0.  0.\n",
      "  0.  0.  0.  0.  0.  0.  0.  0.  0.  0.  0.  0.  0.  0.  0.  0.  0.  0.\n",
      "  0.  0.  0.  0.  0.  0.  0.  0.  0.]\n",
      "[ 0.  0.  0.  1.  0.  0.  0.  0.  0.  0.]\n"
     ]
    },
    {
     "data": {
      "image/png": "[encoded data removed]",
      "text/plain": [
       "<matplotlib.figure.Figure at 0x7f1e5210ff50>"
      ]
     },
     "metadata": {},
     "output_type": "display_data"
    }
   ],
   "source": [
    "from matplotlib import pyplot as plt\n",
    "print(mnist.train.images[1][1:100])\n",
    "print(mnist.train.labels[1])\n",
    "\n",
    "# Need to reshape the data, right now just in a (784,) array\n",
    "plt.imshow(mnist.train.images[1].reshape((28,28)), cmap='gray')\n",
    "plt.show()"
   ]
  },
  {
   "cell_type": "markdown",
   "metadata": {
    "collapsed": true
   },
   "source": [
    "## What is Softmax?\n",
    "\n",
    "We know that all of our data is in the label space {0...9}. We want to be able to take in a naive (not yet classified) image and assign probabilities to the possible labels. We will end up with a vector that looks like:\n",
    "\n",
    "$\\left[ \\begin{array}{c}\n",
    "0.1 \\\\\n",
    "0.1 \\\\\n",
    "0.1 \\\\\n",
    "0.1 \\\\\n",
    "0.1 \\\\\n",
    "0.1 \\\\\n",
    "0.1 \\\\\n",
    "0.1 \\\\\n",
    "0.1 \\\\\n",
    "0.1 \\\\\n",
    "\\end{array} \\right]$"
   ]
  }
 ],
 "metadata": {
  "kernelspec": {
   "display_name": "Python 2",
   "language": "python",
   "name": "python2"
  },
  "language_info": {
   "codemirror_mode": {
    "name": "ipython",
    "version": 2
   },
   "file_extension": ".py",
   "mimetype": "text/x-python",
   "name": "python",
   "nbconvert_exporter": "python",
   "pygments_lexer": "ipython2",
   "version": "2.7.11+"
  }
 },
 "nbformat": 4,
 "nbformat_minor": 1
}
