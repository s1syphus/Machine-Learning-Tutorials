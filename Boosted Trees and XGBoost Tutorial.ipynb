{
 "cells": [
  {
   "cell_type": "markdown",
   "metadata": {},
   "source": [
    "# Boosted Trees and XGBoost Library Tutorial\n",
    "\n",
    "## What is boosting?\n",
    "\n",
    "Explain here\n",
    "\n",
    "### What is Gradient Boosting\n",
    "\n",
    "## What is XGBoost?\n",
    "\n",
    "Explain here\n",
    "\n",
    "## Installation Instructions\n",
    "\n",
    "Assuming you are on linux, consult http://xgboost.readthedocs.io/en/latest/build.html for other (inferior) OSs\n",
    "\n",
    "We have to build the library and then install it to be able to use it from Python\n",
    "\n",
    "```\n",
    "git clone --recursive https://github.com/dmlc/xgboost\n",
    "cd xgboost\n",
    "make -j12 # change to however many threads you have\n",
    "sudo apt-get install python-setuptools\n",
    "cd python-package\n",
    "sudo python setup.py install\n",
    "```\n",
    "\n",
    "## Resources\n",
    "\n",
    "http://archive.ics.uci.edu/ml/datasets/Iris\n",
    "\n",
    "https://xgboost.readthedocs.io/en/latest/model.html\n",
    "\n",
    "## Demo\n",
    "\n",
    "### What does the data look like? What is our classification goal?\n",
    "\n",
    "http://scikit-learn.org/stable/modules/tree.html\n",
    "\n",
    "This is the multiclass classification demo from xgboost\n",
    "Can use same data but should be changed to be a little more instructive"
   ]
  },
  {
   "cell_type": "code",
   "execution_count": 5,
   "metadata": {
    "collapsed": true
   },
   "outputs": [],
   "source": [
    "# Libraries Used\n",
    "import pandas as pd\n",
    "from sklearn import tree\n",
    "from sklearn.cross_validation import train_test_split\n",
    "from sklearn.metrics import accuracy_score\n",
    "from sklearn.datasets import make_classification"
   ]
  },
  {
   "cell_type": "code",
   "execution_count": 2,
   "metadata": {
    "collapsed": true
   },
   "outputs": [],
   "source": [
    "# Makes sure we load the data the same way every time\n",
    "def load_data():\n",
    "    data = pd.read_csv('Data/iris.csv', header=None, names=['sepal_length', 'sepal_width', 'petal_length', 'petal_width', 'class'])\n",
    "    return data[['sepal_length', 'sepal_width', 'petal_length', 'petal_width']], data['class']"
   ]
  },
  {
   "cell_type": "code",
   "execution_count": null,
   "metadata": {
    "collapsed": true
   },
   "outputs": [],
   "source": [
    "def generate_data():\n",
    "    return make_classification(1000, 20, random_state=0)"
   ]
  },
  {
   "cell_type": "code",
   "execution_count": 3,
   "metadata": {
    "collapsed": true
   },
   "outputs": [],
   "source": [
    "def train_and_test_basic_tree():\n",
    "#     data_x, data_y = load_data()\n",
    "    data_x, data_y = generate_data()\n",
    "    # Probably should use k-folds cross validation at some point soon\n",
    "    clf = tree.DecisionTreeClassifier()\n",
    "    x_train, x_test, y_train, y_test = train_test_split(data_x, data_y, test_size=0.9, random_state=0)\n",
    "    clf = clf.fit(x_train, y_train)\n",
    "    pred_y = clf.predict(x_test)\n",
    "    print(accuracy_score(pred_y, y_test))\n",
    "    return"
   ]
  },
  {
   "cell_type": "code",
   "execution_count": 4,
   "metadata": {
    "collapsed": false
   },
   "outputs": [
    {
     "name": "stdout",
     "output_type": "stream",
     "text": [
      "0.940740740741\n"
     ]
    }
   ],
   "source": [
    "# Drivers\n",
    "# train_and_test_xgboost()\n",
    "\n",
    "# Something to compare to\n",
    "# This uses the CART algorithm\n",
    "train_and_test_basic_tree()"
   ]
  },
  {
   "cell_type": "code",
   "execution_count": null,
   "metadata": {
    "collapsed": true
   },
   "outputs": [],
   "source": []
  }
 ],
 "metadata": {
  "kernelspec": {
   "display_name": "Python 2",
   "language": "python",
   "name": "python2"
  },
  "language_info": {
   "codemirror_mode": {
    "name": "ipython",
    "version": 2
   },
   "file_extension": ".py",
   "mimetype": "text/x-python",
   "name": "python",
   "nbconvert_exporter": "python",
   "pygments_lexer": "ipython2",
   "version": "2.7.12"
  }
 },
 "nbformat": 4,
 "nbformat_minor": 0
}
